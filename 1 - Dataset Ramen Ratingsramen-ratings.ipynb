{
 "cells": [
  {
   "cell_type": "markdown",
   "id": "81e8fc0c",
   "metadata": {
    "execution": {
     "iopub.execute_input": "2022-02-07T21:55:08.49134Z",
     "iopub.status.busy": "2022-02-07T21:55:08.490594Z",
     "iopub.status.idle": "2022-02-07T21:55:08.496877Z",
     "shell.execute_reply": "2022-02-07T21:55:08.495911Z",
     "shell.execute_reply.started": "2022-02-07T21:55:08.491303Z"
    },
    "papermill": {
     "duration": 0.02342,
     "end_time": "2022-02-09T20:31:15.692899",
     "exception": false,
     "start_time": "2022-02-09T20:31:15.669479",
     "status": "completed"
    },
    "tags": []
   },
   "source": [
    "# RAMEN RATINGS\n",
    "\n",
    "We had acess to the ratings of a prestigious site of instant ramen with the following informations: <br /> \n",
    "\n",
    "**Review #**: the order of the rating <br /> \n",
    "**Brand**: the name of the brand <br /> \n",
    "**Variety**: the nam of the product <br /> \n",
    "**Style**: the format of the ramen package <br /> \n",
    "**Country**: brand's country<br /> \n",
    "**Stars**: the rating <br /> \n",
    "**Top Ten**: the top 10 rating per year <br /> \n",
    "\n",
    "Link of the dataset on Kaggle:\n",
    "https://www.kaggle.com/residentmario/ramen-ratings\n",
    "\n",
    "We aim to answer the following questions:\n",
    "*     How is ramen manufacturing internationally distributed?\n",
    "*     How are the ramen ratings distributed per the greater ramen productors? \n",
    "*     Is there a relation between the ratings and the product's style? \n"
   ]
  },
  {
   "cell_type": "code",
   "execution_count": 1,
   "id": "347209fc",
   "metadata": {
    "_cell_guid": "b1076dfc-b9ad-4769-8c92-a6c4dae69d19",
    "_uuid": "8f2839f25d086af736a60e9eeb907d3b93b6e0e5",
    "execution": {
     "iopub.execute_input": "2022-02-09T20:31:15.745591Z",
     "iopub.status.busy": "2022-02-09T20:31:15.744644Z",
     "iopub.status.idle": "2022-02-09T20:31:17.325340Z",
     "shell.execute_reply": "2022-02-09T20:31:17.324665Z",
     "shell.execute_reply.started": "2022-02-09T20:17:23.250759Z"
    },
    "papermill": {
     "duration": 1.610666,
     "end_time": "2022-02-09T20:31:17.325515",
     "exception": false,
     "start_time": "2022-02-09T20:31:15.714849",
     "status": "completed"
    },
    "tags": []
   },
   "outputs": [
    {
     "name": "stdout",
     "output_type": "stream",
     "text": [
      "/kaggle/input/ramen-ratings/ramen-ratings.csv\n"
     ]
    },
    {
     "name": "stderr",
     "output_type": "stream",
     "text": [
      "/opt/conda/lib/python3.7/site-packages/geopandas/_compat.py:115: UserWarning: The Shapely GEOS version (3.9.1-CAPI-1.14.2) is incompatible with the GEOS version PyGEOS was compiled with (3.10.1-CAPI-1.16.0). Conversions between both will be slow.\n",
      "  shapely_geos_version, geos_capi_version_string\n"
     ]
    }
   ],
   "source": [
    "import numpy as np # linear algebra\n",
    "import pandas as pd # data processing, CSV file I/O (e.g. pd.read_csv)\n",
    "\n",
    "# For importing\n",
    "import os\n",
    "for dirname, _, filenames in os.walk('/kaggle/input'):\n",
    "    for filename in filenames:\n",
    "        print(os.path.join(dirname, filename))\n",
    "\n",
    "# For pre-processing\n",
    "import fuzzywuzzy\n",
    "from fuzzywuzzy import process\n",
    "import chardet\n",
    "\n",
    "# For data visualization\n",
    "pd.plotting.register_matplotlib_converters()\n",
    "import matplotlib.pyplot as plt\n",
    "%matplotlib inline\n",
    "import seaborn as sns\n",
    "import geopandas as gpd"
   ]
  },
  {
   "cell_type": "code",
   "execution_count": 2,
   "id": "ebdba9c3",
   "metadata": {
    "execution": {
     "iopub.execute_input": "2022-02-09T20:31:17.372825Z",
     "iopub.status.busy": "2022-02-09T20:31:17.372208Z",
     "iopub.status.idle": "2022-02-09T20:31:17.413741Z",
     "shell.execute_reply": "2022-02-09T20:31:17.414252Z",
     "shell.execute_reply.started": "2022-02-09T20:17:23.334904Z"
    },
    "papermill": {
     "duration": 0.066552,
     "end_time": "2022-02-09T20:31:17.414428",
     "exception": false,
     "start_time": "2022-02-09T20:31:17.347876",
     "status": "completed"
    },
    "scrolled": true,
    "tags": []
   },
   "outputs": [
    {
     "data": {
      "text/html": [
       "<div>\n",
       "<style scoped>\n",
       "    .dataframe tbody tr th:only-of-type {\n",
       "        vertical-align: middle;\n",
       "    }\n",
       "\n",
       "    .dataframe tbody tr th {\n",
       "        vertical-align: top;\n",
       "    }\n",
       "\n",
       "    .dataframe thead th {\n",
       "        text-align: right;\n",
       "    }\n",
       "</style>\n",
       "<table border=\"1\" class=\"dataframe\">\n",
       "  <thead>\n",
       "    <tr style=\"text-align: right;\">\n",
       "      <th></th>\n",
       "      <th>Review #</th>\n",
       "      <th>Brand</th>\n",
       "      <th>Variety</th>\n",
       "      <th>Style</th>\n",
       "      <th>Country</th>\n",
       "      <th>Stars</th>\n",
       "      <th>Top Ten</th>\n",
       "    </tr>\n",
       "  </thead>\n",
       "  <tbody>\n",
       "    <tr>\n",
       "      <th>0</th>\n",
       "      <td>2580</td>\n",
       "      <td>New Touch</td>\n",
       "      <td>T's Restaurant Tantanmen</td>\n",
       "      <td>Cup</td>\n",
       "      <td>Japan</td>\n",
       "      <td>3.75</td>\n",
       "      <td>NaN</td>\n",
       "    </tr>\n",
       "    <tr>\n",
       "      <th>1</th>\n",
       "      <td>2579</td>\n",
       "      <td>Just Way</td>\n",
       "      <td>Noodles Spicy Hot Sesame Spicy Hot Sesame Guan...</td>\n",
       "      <td>Pack</td>\n",
       "      <td>Taiwan</td>\n",
       "      <td>1</td>\n",
       "      <td>NaN</td>\n",
       "    </tr>\n",
       "    <tr>\n",
       "      <th>2</th>\n",
       "      <td>2578</td>\n",
       "      <td>Nissin</td>\n",
       "      <td>Cup Noodles Chicken Vegetable</td>\n",
       "      <td>Cup</td>\n",
       "      <td>USA</td>\n",
       "      <td>2.25</td>\n",
       "      <td>NaN</td>\n",
       "    </tr>\n",
       "    <tr>\n",
       "      <th>3</th>\n",
       "      <td>2577</td>\n",
       "      <td>Wei Lih</td>\n",
       "      <td>GGE Ramen Snack Tomato Flavor</td>\n",
       "      <td>Pack</td>\n",
       "      <td>Taiwan</td>\n",
       "      <td>2.75</td>\n",
       "      <td>NaN</td>\n",
       "    </tr>\n",
       "    <tr>\n",
       "      <th>4</th>\n",
       "      <td>2576</td>\n",
       "      <td>Ching's Secret</td>\n",
       "      <td>Singapore Curry</td>\n",
       "      <td>Pack</td>\n",
       "      <td>India</td>\n",
       "      <td>3.75</td>\n",
       "      <td>NaN</td>\n",
       "    </tr>\n",
       "  </tbody>\n",
       "</table>\n",
       "</div>"
      ],
      "text/plain": [
       "   Review #           Brand  \\\n",
       "0      2580       New Touch   \n",
       "1      2579        Just Way   \n",
       "2      2578          Nissin   \n",
       "3      2577         Wei Lih   \n",
       "4      2576  Ching's Secret   \n",
       "\n",
       "                                             Variety Style Country Stars  \\\n",
       "0                          T's Restaurant Tantanmen    Cup   Japan  3.75   \n",
       "1  Noodles Spicy Hot Sesame Spicy Hot Sesame Guan...  Pack  Taiwan     1   \n",
       "2                      Cup Noodles Chicken Vegetable   Cup     USA  2.25   \n",
       "3                      GGE Ramen Snack Tomato Flavor  Pack  Taiwan  2.75   \n",
       "4                                    Singapore Curry  Pack   India  3.75   \n",
       "\n",
       "  Top Ten  \n",
       "0     NaN  \n",
       "1     NaN  \n",
       "2     NaN  \n",
       "3     NaN  \n",
       "4     NaN  "
      ]
     },
     "execution_count": 2,
     "metadata": {},
     "output_type": "execute_result"
    }
   ],
   "source": [
    "ramen_list = pd.read_csv('/kaggle/input/ramen-ratings/ramen-ratings.csv')\n",
    "ramen_list.head(5)"
   ]
  },
  {
   "cell_type": "markdown",
   "id": "4207fdf6",
   "metadata": {
    "papermill": {
     "duration": 0.022298,
     "end_time": "2022-02-09T20:31:17.459246",
     "exception": false,
     "start_time": "2022-02-09T20:31:17.436948",
     "status": "completed"
    },
    "tags": []
   },
   "source": [
    "# **Data manipulation**"
   ]
  },
  {
   "cell_type": "markdown",
   "id": "32ea81e4",
   "metadata": {
    "papermill": {
     "duration": 0.022375,
     "end_time": "2022-02-09T20:31:17.504561",
     "exception": false,
     "start_time": "2022-02-09T20:31:17.482186",
     "status": "completed"
    },
    "tags": []
   },
   "source": [
    "## 1. Evaluating categorical values written twice differently:"
   ]
  },
  {
   "cell_type": "code",
   "execution_count": 3,
   "id": "33492929",
   "metadata": {
    "execution": {
     "iopub.execute_input": "2022-02-09T20:31:17.552713Z",
     "iopub.status.busy": "2022-02-09T20:31:17.552111Z",
     "iopub.status.idle": "2022-02-09T20:31:17.563850Z",
     "shell.execute_reply": "2022-02-09T20:31:17.564458Z",
     "shell.execute_reply.started": "2022-02-09T20:17:23.364613Z"
    },
    "papermill": {
     "duration": 0.037651,
     "end_time": "2022-02-09T20:31:17.564623",
     "exception": false,
     "start_time": "2022-02-09T20:31:17.526972",
     "status": "completed"
    },
    "tags": []
   },
   "outputs": [
    {
     "data": {
      "text/plain": [
       "array(['1 To 3 Noodles', '7 Select', '7 Select/Nissin', 'A-One',\n",
       "       'A-Sha Dry Noodle', 'A1', 'ABC', 'Acecook', 'Adabi', 'Ah Lai',\n",
       "       'Ajinatori', 'Amianda', 'Amino', \"Annie Chun's\", 'Aroi',\n",
       "       'Asia Gold', 'Asian Thai Foods', 'Authentically Asian', 'Azami',\n",
       "       'Baijia', 'Baixiang Noodles', 'Baltix', 'Bamee', 'Batchelors',\n",
       "       'Binh Tay', 'Bon Go Jang', 'Bonasia', 'Boss', 'CJ CheilJedang',\n",
       "       \"Campbell's\", 'Cap Atoom Bulan', 'CarJEN', \"Chaudhary's Wai Wai\",\n",
       "       'Chencun', 'Chering Chang', 'Chewy', 'Chikara', 'China Best',\n",
       "       \"Ching's Secret\", 'Chorip Dong', 'ChoripDong', 'Choumama',\n",
       "       'Chuan Wei Wang', 'Cintan', 'Conimex', 'Crystal Noodle',\n",
       "       'Curry Prince', 'Daddy', 'Daifuku', 'Daikoku', 'Daraz', 'Deshome',\n",
       "       'Doll', 'Dongwon', \"Dr. McDougall's\", 'Dragonfly', 'Dream Kitchen',\n",
       "       'E-Zee', 'E-mi', 'Eat & Go', 'Econsave', 'Emart', 'FMF',\n",
       "       'Fantastic', \"Farmer's Heart\", 'Fashion Food', 'Fashion Foods',\n",
       "       'Foodmon', 'Forest Noodles', 'Fortune', 'Four Seas',\n",
       "       'Fu Chang Chinese Noodle Company', 'Fuji Mengyo', 'Fujiwara',\n",
       "       'Fuku', 'GGE', 'GS25', 'GaGa', 'Gau Do', 'Gefen',\n",
       "       'Global Inspiration', 'Goku Uma', 'Goku-Uma', 'Golden Mie',\n",
       "       'Golden Wheat', 'Golden Wonder', 'Gomex', 'Good Tto Leu Foods',\n",
       "       'Great Value', 'GreeNoodle', 'Guava Story', 'Haioreum',\n",
       "       \"Han's South Korea\", 'Hankow', 'Hao Way', 'Happy Cook',\n",
       "       'Happy Family', 'Healtimie', 'Hi-Myon', 'Higashi', 'Higashimaru',\n",
       "       'HoMyeonDang', 'Hosoonyi', 'Hsin Tung Yang', 'Hua Feng',\n",
       "       'Hua Feng Noodle Expert', 'ICA', 'IbuRamen', 'Ibumie',\n",
       "       'Ikeda Shoku', 'Indomie', 'Ishimaru', 'Itomen', 'Itsuki', 'J.J.',\n",
       "       'JFC', 'JML', 'Jackpot Teriyaki', 'Jingqi', 'Just Way', 'KOKA',\n",
       "       'Kabuto Noodles', 'Kailo', 'Kamfen', 'Kang Shi Fu', 'Katoz',\n",
       "       'Kiki Noodle', 'Kim Ve Wong', \"Kim's Bowl\", 'Kimura', 'Kin-Dee',\n",
       "       'Knorr', 'Ko-Lee', 'Koh Thai', 'Koka', 'Komforte Chockolates',\n",
       "       'Koyo', 'Kumamoto', 'Kuriki', 'La Fonte', 'La Moderna',\n",
       "       'Lee Fah Mee', 'Lele', 'Liang Cheng Mai', 'Lipton', 'Lishan',\n",
       "       'Lishan Food Manufacturing', 'Little Cook', 'Liu Quan',\n",
       "       'Long Jun Hang', 'Long Kow', 'Lotus Foods', 'Love Cook',\n",
       "       'Lucky Me!', 'MAMA', 'Maggi', 'Maitri', 'Mama', \"Mama Pat's\",\n",
       "       'Mamee', 'Maruchan', 'Marutai', 'Master Kong', 'Mee Jang',\n",
       "       'Men-Sunaoshi', 'Menraku', 'Mexi-Ramen', 'Mi E-Zee', 'Mi Sedaap',\n",
       "       'Mie Sedaap', 'Migawon', 'Miliket', 'Miracle Noodle', 'Mitoku',\n",
       "       \"Mom's Dry Noodle\", 'Morre', \"Mr. Lee's Noodles\", 'Mr. Noodles',\n",
       "       'Mr. Udon', 'Mug Shot', 'Mum Ngon', 'MyKuali', 'MyOri', 'Myojo',\n",
       "       'Nagao Noodle', 'Nagatanien', 'Nakaya Shouten', 'Nan Hsing',\n",
       "       'Nan Jie Cun', 'Nanyang Chef', 'New Touch', 'New Way', 'Nissin',\n",
       "       'No Name', 'Noah Foods', 'Nongshim', 'Noodle Time', 'Nyor Nyar',\n",
       "       'O Sung', 'ORee Garden', 'Ogasawara', 'Ohsung', 'Omachi',\n",
       "       'One Dish Asia', 'Oni Hot Pot', 'Osaka Ramen', 'Ottogi', 'Oyatsu',\n",
       "       'Paldo', 'Paldo Vina', 'Pama', 'Pamana', 'Papa', 'Patanjali',\n",
       "       'Payless', 'Peyang', 'Pirkka', 'Plats Du Chef', 'Pop Bihun',\n",
       "       'Pot Noodle', 'Pran', 'Premiere', 'President', 'President Rice',\n",
       "       'Prima', 'Prima Taste', 'Pringles', 'Pulmuone', 'Q', 'Qin Zong',\n",
       "       'Quickchow', 'Rhee Bros Assi', 'Right Foods', \"Ripe'n'Dry\",\n",
       "       'Rocket Brand', 'Roland', 'Royal Umbrella', 'Ruski', 'S&S',\n",
       "       'Sahmyook', 'Saigon Ve Wong', \"Sainsbury's\", 'Saji',\n",
       "       'Sakura Noodle', 'Sakurai', 'Sakurai Foods', 'Salam Mie',\n",
       "       'Samurai Ramen', 'Samyang', 'Samyang Foods', 'Sanpo', 'Sanrio',\n",
       "       'Sanyo Foods', 'Sao Tao', 'Sapporo Ichiban', 'Sarimi', 'Sau Tao',\n",
       "       'Sawadee', 'Sempio', 'Seven & I', 'Seven-Eleven', 'Shan',\n",
       "       'Shirakiku', 'Sichuan Baijia', 'Sichuan Guangyou', 'Singa-Me',\n",
       "       'Six Fortune', 'Smack', 'Snapdragon', 'Sokensha', 'Song Hak',\n",
       "       'Souper', 'Springlife', 'Star Anise Foods', 'Sugakiya Foods',\n",
       "       'Suimin', 'Sun Noodle', 'Sunlee', 'Sunlight', 'Sunny Maid',\n",
       "       'Super', 'Super Bihun', 'SuperMi', 'Sura', 'Sutah', 'TRDP', 'TTL',\n",
       "       'Tablemark', 'Takamori', 'Takamori Kosan', 'Tao Kae Noi',\n",
       "       'Tasty Bite', 'Tayho', 'Ten-In', 'Teriyaki Time', 'Tesco',\n",
       "       'Thai Chef', 'Thai Choice', 'Thai Kitchen', 'Thai Pavilion',\n",
       "       'Thai Smile', 'The Bridge', 'The Kitchen Food',\n",
       "       'The Ramen Rater Select', 'Thien Houng Foods', 'Tiger',\n",
       "       'Tiger Tiger', 'Tokachimen Koubou', 'Tokushima Seifun',\n",
       "       'Tokyo Noodle', 'Torishi', 'Tradition', 'Trident',\n",
       "       'Tropicana Slim', 'Tseng Noodles', 'Tung-I', 'US Canning',\n",
       "       'Uncle Sun', 'Uni-President', 'Unif', 'Unif / Tung-I',\n",
       "       'Unif Tung-I', 'Unif-100', 'United', 'Unox', 'Unzen',\n",
       "       'Urban Noodle', 'Ve Wong', 'Vedan', 'Vifon', 'Vina Acecook',\n",
       "       \"Vit's\", 'Wai Wai', 'Wang', 'Weh Lih', 'Wei Chuan', 'Wei Lih',\n",
       "       'Wei Wei', 'Westbrae', 'Western Family', \"World O' Noodle\",\n",
       "       'Wu Mu', 'Wu-Mu', 'Wugudaochang', 'Xiao Ban Mian', 'Xiuhe',\n",
       "       'Yamachan', 'Yamadai', 'Yamamori', 'Yamamoto', 'Yum Yum',\n",
       "       'Yum-Mie', 'Zow Zow', 'iMee', 'iNoodle'], dtype=object)"
      ]
     },
     "execution_count": 3,
     "metadata": {},
     "output_type": "execute_result"
    }
   ],
   "source": [
    "brands= ramen_list[\"Brand\"].unique()\n",
    "brands.sort()\n",
    "brands"
   ]
  },
  {
   "cell_type": "markdown",
   "id": "c88b5b1f",
   "metadata": {
    "papermill": {
     "duration": 0.02233,
     "end_time": "2022-02-09T20:31:17.609532",
     "exception": false,
     "start_time": "2022-02-09T20:31:17.587202",
     "status": "completed"
    },
    "tags": []
   },
   "source": [
    "We see that there are some brands with duplicated nouns with some variation as 'Wu Mu', 'Chorip Dong' and 'Fashion Food' and 'Mama'.\n",
    "So we're going to filter some of this cases with the follwing function:"
   ]
  },
  {
   "cell_type": "code",
   "execution_count": 4,
   "id": "14d573b8",
   "metadata": {
    "_kg_hide-input": false,
    "execution": {
     "iopub.execute_input": "2022-02-09T20:31:17.658037Z",
     "iopub.status.busy": "2022-02-09T20:31:17.657401Z",
     "iopub.status.idle": "2022-02-09T20:31:17.663084Z",
     "shell.execute_reply": "2022-02-09T20:31:17.663648Z",
     "shell.execute_reply.started": "2022-02-09T20:17:23.378213Z"
    },
    "papermill": {
     "duration": 0.031458,
     "end_time": "2022-02-09T20:31:17.663807",
     "exception": false,
     "start_time": "2022-02-09T20:31:17.632349",
     "status": "completed"
    },
    "tags": []
   },
   "outputs": [],
   "source": [
    "# Replaces rows in the provided column of the provided dataframe\n",
    "# that match the provided string above the provided ratio with the provided string\n",
    "def replace_matches_in_column(df, column, string_to_match, min_ratio = 90):\n",
    "    # get a list of unique strings\n",
    "    strings = df[column].unique()\n",
    "    \n",
    "    # get the top 10 closest matches to our input string\n",
    "    matches = fuzzywuzzy.process.extract(string_to_match, strings, \n",
    "                                         limit=10, scorer=fuzzywuzzy.fuzz.token_sort_ratio)\n",
    "\n",
    "    # only get matches with a ratio > 90\n",
    "    close_matches = [matches[0] for matches in matches if matches[1] >= min_ratio]\n",
    "\n",
    "    # get the rows of all the close matches in our dataframe\n",
    "    rows_with_matches = df[column].isin(close_matches)\n",
    "\n",
    "    # replace all rows with close matches with the input matches \n",
    "    df.loc[rows_with_matches, column] = string_to_match\n",
    "    \n",
    "    # let us know the function's done\n",
    "    print(\"All done!\")"
   ]
  },
  {
   "cell_type": "code",
   "execution_count": 5,
   "id": "3607540a",
   "metadata": {
    "execution": {
     "iopub.execute_input": "2022-02-09T20:31:17.712820Z",
     "iopub.status.busy": "2022-02-09T20:31:17.712203Z",
     "iopub.status.idle": "2022-02-09T20:31:17.744601Z",
     "shell.execute_reply": "2022-02-09T20:31:17.745276Z",
     "shell.execute_reply.started": "2022-02-09T20:17:23.394498Z"
    },
    "papermill": {
     "duration": 0.058455,
     "end_time": "2022-02-09T20:31:17.745505",
     "exception": false,
     "start_time": "2022-02-09T20:31:17.687050",
     "status": "completed"
    },
    "tags": []
   },
   "outputs": [
    {
     "name": "stdout",
     "output_type": "stream",
     "text": [
      "All done!\n",
      "All done!\n",
      "All done!\n",
      "All done!\n"
     ]
    }
   ],
   "source": [
    "replace_matches_in_column(df=ramen_list, column=\"Brand\", string_to_match=\"Chorip Dong\", min_ratio = 47)\n",
    "replace_matches_in_column(df=ramen_list, column=\"Brand\", string_to_match=\"Fashion Food\", min_ratio = 47)\n",
    "replace_matches_in_column(df=ramen_list, column=\"Brand\", string_to_match=\"Mama\", min_ratio = 47)\n",
    "replace_matches_in_column(df=ramen_list, column=\"Brand\", string_to_match=\"Wu Mu\", min_ratio = 47)"
   ]
  },
  {
   "cell_type": "code",
   "execution_count": 6,
   "id": "479d68b0",
   "metadata": {
    "execution": {
     "iopub.execute_input": "2022-02-09T20:31:17.796655Z",
     "iopub.status.busy": "2022-02-09T20:31:17.795958Z",
     "iopub.status.idle": "2022-02-09T20:31:17.801344Z",
     "shell.execute_reply": "2022-02-09T20:31:17.801867Z",
     "shell.execute_reply.started": "2022-02-09T20:17:23.435600Z"
    },
    "papermill": {
     "duration": 0.032167,
     "end_time": "2022-02-09T20:31:17.802028",
     "exception": false,
     "start_time": "2022-02-09T20:31:17.769861",
     "status": "completed"
    },
    "tags": []
   },
   "outputs": [
    {
     "data": {
      "text/plain": [
       "array(['Cup', 'Pack', 'Tray', 'Bowl', 'Box', 'Can', 'Bar', nan],\n",
       "      dtype=object)"
      ]
     },
     "execution_count": 6,
     "metadata": {},
     "output_type": "execute_result"
    }
   ],
   "source": [
    "ramen_list[\"Style\"].unique()"
   ]
  },
  {
   "cell_type": "code",
   "execution_count": 7,
   "id": "7c4d4153",
   "metadata": {
    "execution": {
     "iopub.execute_input": "2022-02-09T20:31:17.853017Z",
     "iopub.status.busy": "2022-02-09T20:31:17.852079Z",
     "iopub.status.idle": "2022-02-09T20:31:17.858706Z",
     "shell.execute_reply": "2022-02-09T20:31:17.859308Z",
     "shell.execute_reply.started": "2022-02-09T20:17:23.443340Z"
    },
    "papermill": {
     "duration": 0.033755,
     "end_time": "2022-02-09T20:31:17.859465",
     "exception": false,
     "start_time": "2022-02-09T20:31:17.825710",
     "status": "completed"
    },
    "tags": []
   },
   "outputs": [
    {
     "data": {
      "text/plain": [
       "array(['Australia', 'Bangladesh', 'Brazil', 'Cambodia', 'Canada', 'China',\n",
       "       'Colombia', 'Dubai', 'Estonia', 'Fiji', 'Finland', 'Germany',\n",
       "       'Ghana', 'Holland', 'Hong Kong', 'Hungary', 'India', 'Indonesia',\n",
       "       'Japan', 'Malaysia', 'Mexico', 'Myanmar', 'Nepal', 'Netherlands',\n",
       "       'Nigeria', 'Pakistan', 'Philippines', 'Poland', 'Sarawak',\n",
       "       'Singapore', 'South Korea', 'Sweden', 'Taiwan', 'Thailand', 'UK',\n",
       "       'USA', 'United States', 'Vietnam'], dtype=object)"
      ]
     },
     "execution_count": 7,
     "metadata": {},
     "output_type": "execute_result"
    }
   ],
   "source": [
    "countries= ramen_list[\"Country\"].unique()\n",
    "countries.sort()\n",
    "countries"
   ]
  },
  {
   "cell_type": "code",
   "execution_count": 8,
   "id": "01d38a2f",
   "metadata": {
    "execution": {
     "iopub.execute_input": "2022-02-09T20:31:17.911051Z",
     "iopub.status.busy": "2022-02-09T20:31:17.910110Z",
     "iopub.status.idle": "2022-02-09T20:31:17.916188Z",
     "shell.execute_reply": "2022-02-09T20:31:17.916745Z",
     "shell.execute_reply.started": "2022-02-09T20:17:23.460878Z"
    },
    "papermill": {
     "duration": 0.033583,
     "end_time": "2022-02-09T20:31:17.916904",
     "exception": false,
     "start_time": "2022-02-09T20:31:17.883321",
     "status": "completed"
    },
    "tags": []
   },
   "outputs": [
    {
     "data": {
      "text/plain": [
       "0"
      ]
     },
     "execution_count": 8,
     "metadata": {},
     "output_type": "execute_result"
    }
   ],
   "source": [
    "duplicates = ramen_list[\"Review #\"].duplicated().sum()\n",
    "duplicates"
   ]
  },
  {
   "cell_type": "markdown",
   "id": "2c5ab50c",
   "metadata": {
    "papermill": {
     "duration": 0.024119,
     "end_time": "2022-02-09T20:31:17.965334",
     "exception": false,
     "start_time": "2022-02-09T20:31:17.941215",
     "status": "completed"
    },
    "tags": []
   },
   "source": [
    "## 2.  Evaluating missing row values per columns:"
   ]
  },
  {
   "cell_type": "code",
   "execution_count": 9,
   "id": "4eaaeeba",
   "metadata": {
    "execution": {
     "iopub.execute_input": "2022-02-09T20:31:18.019056Z",
     "iopub.status.busy": "2022-02-09T20:31:18.018107Z",
     "iopub.status.idle": "2022-02-09T20:31:18.028100Z",
     "shell.execute_reply": "2022-02-09T20:31:18.028595Z",
     "shell.execute_reply.started": "2022-02-09T20:17:23.478418Z"
    },
    "papermill": {
     "duration": 0.038927,
     "end_time": "2022-02-09T20:31:18.028766",
     "exception": false,
     "start_time": "2022-02-09T20:31:17.989839",
     "status": "completed"
    },
    "tags": []
   },
   "outputs": [
    {
     "name": "stdout",
     "output_type": "stream",
     "text": [
      "Review #       0\n",
      "Brand          0\n",
      "Variety        0\n",
      "Style          2\n",
      "Country        0\n",
      "Stars          0\n",
      "Top Ten     2539\n",
      "dtype: int64\n",
      "Quantity of rows/lines: 2580\n"
     ]
    }
   ],
   "source": [
    "missing_values_counter = ramen_list.isnull().sum()\n",
    "print(missing_values_counter[0:7])\n",
    "\n",
    "lines_quantity = len(ramen_list)\n",
    "print(\"Quantity of rows/lines:\",lines_quantity)"
   ]
  },
  {
   "cell_type": "code",
   "execution_count": 10,
   "id": "4a4d1852",
   "metadata": {
    "execution": {
     "iopub.execute_input": "2022-02-09T20:31:18.091767Z",
     "iopub.status.busy": "2022-02-09T20:31:18.081501Z",
     "iopub.status.idle": "2022-02-09T20:31:18.095516Z",
     "shell.execute_reply": "2022-02-09T20:31:18.094661Z",
     "shell.execute_reply.started": "2022-02-09T20:17:23.495202Z"
    },
    "papermill": {
     "duration": 0.041682,
     "end_time": "2022-02-09T20:31:18.095711",
     "exception": false,
     "start_time": "2022-02-09T20:31:18.054029",
     "status": "completed"
    },
    "tags": []
   },
   "outputs": [
    {
     "name": "stdout",
     "output_type": "stream",
     "text": [
      "Null cells: \n",
      "       Review #   Brand            Variety Style Country Stars Top Ten\n",
      "2152       428  Kamfen     E Menm Chicken   NaN   China  3.75     NaN\n",
      "2442       138    Unif  100 Furong Shrimp   NaN  Taiwan     3     NaN \n",
      " ________________________________________________________________________________\n"
     ]
    }
   ],
   "source": [
    "ramen_list_fill_style = ramen_list.copy()\n",
    "\n",
    "# Locate the null cells\n",
    "print(\"Null cells: \\n\",ramen_list_fill_style.loc[(ramen_list_fill_style['Style'].isnull())],\"\\n\",80*\"_\")"
   ]
  },
  {
   "cell_type": "code",
   "execution_count": 11,
   "id": "e3131d43",
   "metadata": {
    "execution": {
     "iopub.execute_input": "2022-02-09T20:31:18.165735Z",
     "iopub.status.busy": "2022-02-09T20:31:18.164791Z",
     "iopub.status.idle": "2022-02-09T20:31:18.167494Z",
     "shell.execute_reply": "2022-02-09T20:31:18.168050Z",
     "shell.execute_reply.started": "2022-02-09T20:17:23.510270Z"
    },
    "papermill": {
     "duration": 0.046747,
     "end_time": "2022-02-09T20:31:18.168237",
     "exception": false,
     "start_time": "2022-02-09T20:31:18.121490",
     "status": "completed"
    },
    "tags": []
   },
   "outputs": [
    {
     "data": {
      "text/html": [
       "<div>\n",
       "<style scoped>\n",
       "    .dataframe tbody tr th:only-of-type {\n",
       "        vertical-align: middle;\n",
       "    }\n",
       "\n",
       "    .dataframe tbody tr th {\n",
       "        vertical-align: top;\n",
       "    }\n",
       "\n",
       "    .dataframe thead th {\n",
       "        text-align: right;\n",
       "    }\n",
       "</style>\n",
       "<table border=\"1\" class=\"dataframe\">\n",
       "  <thead>\n",
       "    <tr style=\"text-align: right;\">\n",
       "      <th></th>\n",
       "      <th>Review #</th>\n",
       "      <th>Brand</th>\n",
       "      <th>Variety</th>\n",
       "      <th>Style</th>\n",
       "      <th>Country</th>\n",
       "      <th>Stars</th>\n",
       "      <th>Top Ten</th>\n",
       "    </tr>\n",
       "  </thead>\n",
       "  <tbody>\n",
       "  </tbody>\n",
       "</table>\n",
       "</div>"
      ],
      "text/plain": [
       "Empty DataFrame\n",
       "Columns: [Review #, Brand, Variety, Style, Country, Stars, Top Ten]\n",
       "Index: []"
      ]
     },
     "execution_count": 11,
     "metadata": {},
     "output_type": "execute_result"
    }
   ],
   "source": [
    "# Assigning neighbor values in the column 'Style' for missing cells\n",
    "ramen_list_fill_style['Style'] = ramen_list_fill_style['Style'].fillna(method='bfill', axis=0).fillna(0)\n",
    "\n",
    "# To confirm if it worked\n",
    "ramen_list_fill_style.loc[(ramen_list_fill_style['Style'].isnull())]"
   ]
  },
  {
   "cell_type": "code",
   "execution_count": 12,
   "id": "08053547",
   "metadata": {
    "execution": {
     "iopub.execute_input": "2022-02-09T20:31:18.225361Z",
     "iopub.status.busy": "2022-02-09T20:31:18.224589Z",
     "iopub.status.idle": "2022-02-09T20:31:18.227585Z",
     "shell.execute_reply": "2022-02-09T20:31:18.228177Z",
     "shell.execute_reply.started": "2022-02-09T20:17:23.528390Z"
    },
    "papermill": {
     "duration": 0.034667,
     "end_time": "2022-02-09T20:31:18.228351",
     "exception": false,
     "start_time": "2022-02-09T20:31:18.193684",
     "status": "completed"
    },
    "tags": []
   },
   "outputs": [
    {
     "data": {
      "text/plain": [
       "str"
      ]
     },
     "execution_count": 12,
     "metadata": {},
     "output_type": "execute_result"
    }
   ],
   "source": [
    "# Evaluating the stars character type\n",
    "type(ramen_list_fill_style[\"Stars\"][1])"
   ]
  },
  {
   "cell_type": "code",
   "execution_count": 13,
   "id": "a91dd06a",
   "metadata": {
    "execution": {
     "iopub.execute_input": "2022-02-09T20:31:18.286478Z",
     "iopub.status.busy": "2022-02-09T20:31:18.285827Z",
     "iopub.status.idle": "2022-02-09T20:31:18.301217Z",
     "shell.execute_reply": "2022-02-09T20:31:18.300676Z",
     "shell.execute_reply.started": "2022-02-09T20:17:23.535457Z"
    },
    "papermill": {
     "duration": 0.046487,
     "end_time": "2022-02-09T20:31:18.301350",
     "exception": false,
     "start_time": "2022-02-09T20:31:18.254863",
     "status": "completed"
    },
    "tags": []
   },
   "outputs": [
    {
     "data": {
      "text/html": [
       "<div>\n",
       "<style scoped>\n",
       "    .dataframe tbody tr th:only-of-type {\n",
       "        vertical-align: middle;\n",
       "    }\n",
       "\n",
       "    .dataframe tbody tr th {\n",
       "        vertical-align: top;\n",
       "    }\n",
       "\n",
       "    .dataframe thead th {\n",
       "        text-align: right;\n",
       "    }\n",
       "</style>\n",
       "<table border=\"1\" class=\"dataframe\">\n",
       "  <thead>\n",
       "    <tr style=\"text-align: right;\">\n",
       "      <th></th>\n",
       "      <th>Review #</th>\n",
       "      <th>Brand</th>\n",
       "      <th>Variety</th>\n",
       "      <th>Style</th>\n",
       "      <th>Country</th>\n",
       "      <th>Stars</th>\n",
       "      <th>Top Ten</th>\n",
       "    </tr>\n",
       "  </thead>\n",
       "  <tbody>\n",
       "    <tr>\n",
       "      <th>32</th>\n",
       "      <td>2548</td>\n",
       "      <td>Ottogi</td>\n",
       "      <td>Plain Instant Noodle No Soup Included</td>\n",
       "      <td>Pack</td>\n",
       "      <td>South Korea</td>\n",
       "      <td>NaN</td>\n",
       "      <td>NaN</td>\n",
       "    </tr>\n",
       "    <tr>\n",
       "      <th>122</th>\n",
       "      <td>2458</td>\n",
       "      <td>Samyang Foods</td>\n",
       "      <td>Sari Ramen</td>\n",
       "      <td>Pack</td>\n",
       "      <td>South Korea</td>\n",
       "      <td>NaN</td>\n",
       "      <td>NaN</td>\n",
       "    </tr>\n",
       "    <tr>\n",
       "      <th>993</th>\n",
       "      <td>1587</td>\n",
       "      <td>Mi E-Zee</td>\n",
       "      <td>Plain Noodles</td>\n",
       "      <td>Pack</td>\n",
       "      <td>Malaysia</td>\n",
       "      <td>NaN</td>\n",
       "      <td>NaN</td>\n",
       "    </tr>\n",
       "  </tbody>\n",
       "</table>\n",
       "</div>"
      ],
      "text/plain": [
       "     Review #          Brand                                Variety Style  \\\n",
       "32       2548         Ottogi  Plain Instant Noodle No Soup Included  Pack   \n",
       "122      2458  Samyang Foods                             Sari Ramen  Pack   \n",
       "993      1587       Mi E-Zee                          Plain Noodles  Pack   \n",
       "\n",
       "         Country  Stars Top Ten  \n",
       "32   South Korea    NaN     NaN  \n",
       "122  South Korea    NaN     NaN  \n",
       "993     Malaysia    NaN     NaN  "
      ]
     },
     "execution_count": 13,
     "metadata": {},
     "output_type": "execute_result"
    }
   ],
   "source": [
    "# Converting the column's format to numerical and verifying if there's no null value\n",
    "ramen_list_fill_style[\"Stars\"] = pd.to_numeric(ramen_list_fill_style[\"Stars\"], errors='coerce')\n",
    "#Verifying if there is null values\n",
    "ramen_list_fill_style.loc[ramen_list_fill_style[\"Stars\"].isnull()]"
   ]
  },
  {
   "cell_type": "code",
   "execution_count": 14,
   "id": "bf2be819",
   "metadata": {
    "execution": {
     "iopub.execute_input": "2022-02-09T20:31:18.358917Z",
     "iopub.status.busy": "2022-02-09T20:31:18.358301Z",
     "iopub.status.idle": "2022-02-09T20:31:18.368872Z",
     "shell.execute_reply": "2022-02-09T20:31:18.369445Z",
     "shell.execute_reply.started": "2022-02-09T20:17:23.783868Z"
    },
    "papermill": {
     "duration": 0.041379,
     "end_time": "2022-02-09T20:31:18.369622",
     "exception": false,
     "start_time": "2022-02-09T20:31:18.328243",
     "status": "completed"
    },
    "tags": []
   },
   "outputs": [
    {
     "data": {
      "text/html": [
       "<div>\n",
       "<style scoped>\n",
       "    .dataframe tbody tr th:only-of-type {\n",
       "        vertical-align: middle;\n",
       "    }\n",
       "\n",
       "    .dataframe tbody tr th {\n",
       "        vertical-align: top;\n",
       "    }\n",
       "\n",
       "    .dataframe thead th {\n",
       "        text-align: right;\n",
       "    }\n",
       "</style>\n",
       "<table border=\"1\" class=\"dataframe\">\n",
       "  <thead>\n",
       "    <tr style=\"text-align: right;\">\n",
       "      <th></th>\n",
       "      <th>Review #</th>\n",
       "      <th>Brand</th>\n",
       "      <th>Variety</th>\n",
       "      <th>Style</th>\n",
       "      <th>Country</th>\n",
       "      <th>Stars</th>\n",
       "      <th>Top Ten</th>\n",
       "    </tr>\n",
       "  </thead>\n",
       "  <tbody>\n",
       "  </tbody>\n",
       "</table>\n",
       "</div>"
      ],
      "text/plain": [
       "Empty DataFrame\n",
       "Columns: [Review #, Brand, Variety, Style, Country, Stars, Top Ten]\n",
       "Index: []"
      ]
     },
     "execution_count": 14,
     "metadata": {},
     "output_type": "execute_result"
    }
   ],
   "source": [
    "# Adopting the same value from the cell above in the column 'Stars' to the null values evaluations\n",
    "ramen_list_fill_style['Stars'] = ramen_list_fill_style['Stars'].fillna(method='bfill', axis=0).fillna(0)\n",
    "\n",
    "# To confirm if it worked\n",
    "ramen_list_fill_style.loc[(ramen_list_fill_style['Stars'].isnull())]"
   ]
  },
  {
   "cell_type": "markdown",
   "id": "a807760f",
   "metadata": {
    "papermill": {
     "duration": 0.026486,
     "end_time": "2022-02-09T20:31:18.423189",
     "exception": false,
     "start_time": "2022-02-09T20:31:18.396703",
     "status": "completed"
    },
    "tags": []
   },
   "source": [
    "## 3. Data Visualization"
   ]
  },
  {
   "cell_type": "code",
   "execution_count": 15,
   "id": "cc1927d9",
   "metadata": {
    "execution": {
     "iopub.execute_input": "2022-02-09T20:31:18.480763Z",
     "iopub.status.busy": "2022-02-09T20:31:18.480081Z",
     "iopub.status.idle": "2022-02-09T20:31:18.941476Z",
     "shell.execute_reply": "2022-02-09T20:31:18.941963Z",
     "shell.execute_reply.started": "2022-02-09T20:17:23.798740Z"
    },
    "papermill": {
     "duration": 0.491655,
     "end_time": "2022-02-09T20:31:18.942155",
     "exception": false,
     "start_time": "2022-02-09T20:31:18.450500",
     "status": "completed"
    },
    "tags": []
   },
   "outputs": [
    {
     "data": {
      "image/png": "[encoded data removed]",
      "text/plain": [
       "<Figure size 864x720 with 1 Axes>"
      ]
     },
     "metadata": {
      "needs_background": "light"
     },
     "output_type": "display_data"
    }
   ],
   "source": [
    "plt.figure(figsize=(12,10))\n",
    "sns.countplot(data=ramen_list_fill_style, y=\"Country\", order=ramen_list_fill_style['Country'].value_counts().index)\n",
    "plt.title('Countries X Ramen brand quantity')\n",
    "plt.xlabel('Number of ramen brand')\n",
    "plt.ylabel(\"Countries\")\n",
    "#plt.legend(loc='best') # loc=best - legend of the dataset \n",
    "plt.show()"
   ]
  },
  {
   "cell_type": "code",
   "execution_count": 16,
   "id": "f96538d7",
   "metadata": {
    "execution": {
     "iopub.execute_input": "2022-02-09T20:31:19.004693Z",
     "iopub.status.busy": "2022-02-09T20:31:19.003644Z",
     "iopub.status.idle": "2022-02-09T20:31:19.012422Z",
     "shell.execute_reply": "2022-02-09T20:31:19.013302Z",
     "shell.execute_reply.started": "2022-02-09T20:17:24.265389Z"
    },
    "papermill": {
     "duration": 0.042863,
     "end_time": "2022-02-09T20:31:19.013518",
     "exception": false,
     "start_time": "2022-02-09T20:31:18.970655",
     "status": "completed"
    },
    "tags": []
   },
   "outputs": [
    {
     "name": "stdout",
     "output_type": "stream",
     "text": [
      "Style percentage:\n",
      " Pack    59.379845\n",
      "Bowl    18.682171\n",
      "Cup     17.441860\n",
      "Tray     4.186047\n",
      "Box      0.232558\n",
      "Can      0.038760\n",
      "Bar      0.038760\n",
      "Name: Style, dtype: float64\n"
     ]
    }
   ],
   "source": [
    "# Style percentage\n",
    "style_per_quantity = ramen_list_fill_style[\"Style\"].value_counts()/(len(ramen_list_fill_style))*100\n",
    "print(\"Style percentage:\\n\",style_per_quantity)"
   ]
  },
  {
   "cell_type": "code",
   "execution_count": 17,
   "id": "21213c12",
   "metadata": {
    "execution": {
     "iopub.execute_input": "2022-02-09T20:31:19.080164Z",
     "iopub.status.busy": "2022-02-09T20:31:19.075139Z",
     "iopub.status.idle": "2022-02-09T20:31:19.093449Z",
     "shell.execute_reply": "2022-02-09T20:31:19.094414Z",
     "shell.execute_reply.started": "2022-02-09T20:17:24.277279Z"
    },
    "papermill": {
     "duration": 0.051673,
     "end_time": "2022-02-09T20:31:19.094610",
     "exception": false,
     "start_time": "2022-02-09T20:31:19.042937",
     "status": "completed"
    },
    "tags": []
   },
   "outputs": [
    {
     "data": {
      "text/html": [
       "<div>\n",
       "<style scoped>\n",
       "    .dataframe tbody tr th:only-of-type {\n",
       "        vertical-align: middle;\n",
       "    }\n",
       "\n",
       "    .dataframe tbody tr th {\n",
       "        vertical-align: top;\n",
       "    }\n",
       "\n",
       "    .dataframe thead th {\n",
       "        text-align: right;\n",
       "    }\n",
       "</style>\n",
       "<table border=\"1\" class=\"dataframe\">\n",
       "  <thead>\n",
       "    <tr style=\"text-align: right;\">\n",
       "      <th></th>\n",
       "      <th>Review #</th>\n",
       "      <th>Stars</th>\n",
       "    </tr>\n",
       "  </thead>\n",
       "  <tbody>\n",
       "    <tr>\n",
       "      <th>count</th>\n",
       "      <td>2580.000000</td>\n",
       "      <td>2580.000000</td>\n",
       "    </tr>\n",
       "    <tr>\n",
       "      <th>mean</th>\n",
       "      <td>1290.500000</td>\n",
       "      <td>3.654787</td>\n",
       "    </tr>\n",
       "    <tr>\n",
       "      <th>std</th>\n",
       "      <td>744.926171</td>\n",
       "      <td>1.014769</td>\n",
       "    </tr>\n",
       "    <tr>\n",
       "      <th>min</th>\n",
       "      <td>1.000000</td>\n",
       "      <td>0.000000</td>\n",
       "    </tr>\n",
       "    <tr>\n",
       "      <th>25%</th>\n",
       "      <td>645.750000</td>\n",
       "      <td>3.250000</td>\n",
       "    </tr>\n",
       "    <tr>\n",
       "      <th>50%</th>\n",
       "      <td>1290.500000</td>\n",
       "      <td>3.750000</td>\n",
       "    </tr>\n",
       "    <tr>\n",
       "      <th>75%</th>\n",
       "      <td>1935.250000</td>\n",
       "      <td>4.250000</td>\n",
       "    </tr>\n",
       "    <tr>\n",
       "      <th>max</th>\n",
       "      <td>2580.000000</td>\n",
       "      <td>5.000000</td>\n",
       "    </tr>\n",
       "  </tbody>\n",
       "</table>\n",
       "</div>"
      ],
      "text/plain": [
       "          Review #        Stars\n",
       "count  2580.000000  2580.000000\n",
       "mean   1290.500000     3.654787\n",
       "std     744.926171     1.014769\n",
       "min       1.000000     0.000000\n",
       "25%     645.750000     3.250000\n",
       "50%    1290.500000     3.750000\n",
       "75%    1935.250000     4.250000\n",
       "max    2580.000000     5.000000"
      ]
     },
     "execution_count": 17,
     "metadata": {},
     "output_type": "execute_result"
    }
   ],
   "source": [
    "ramen_list_fill_style.describe()"
   ]
  },
  {
   "cell_type": "markdown",
   "id": "0e1dd038",
   "metadata": {
    "papermill": {
     "duration": 0.029046,
     "end_time": "2022-02-09T20:31:19.153195",
     "exception": false,
     "start_time": "2022-02-09T20:31:19.124149",
     "status": "completed"
    },
    "tags": []
   },
   "source": [
    "From the above metrics, we can see that a significantly part of the ratings are above 2.5. More specifically, 75% have a rating greater than 3.25."
   ]
  },
  {
   "cell_type": "code",
   "execution_count": 18,
   "id": "bbec7c93",
   "metadata": {
    "execution": {
     "iopub.execute_input": "2022-02-09T20:31:19.215902Z",
     "iopub.status.busy": "2022-02-09T20:31:19.215283Z",
     "iopub.status.idle": "2022-02-09T20:31:19.387257Z",
     "shell.execute_reply": "2022-02-09T20:31:19.387728Z",
     "shell.execute_reply.started": "2022-02-09T20:17:24.306124Z"
    },
    "papermill": {
     "duration": 0.204903,
     "end_time": "2022-02-09T20:31:19.387900",
     "exception": false,
     "start_time": "2022-02-09T20:31:19.182997",
     "status": "completed"
    },
    "tags": []
   },
   "outputs": [
    {
     "data": {
      "image/png": "[encoded data removed]",
      "text/plain": [
       "<Figure size 936x360 with 1 Axes>"
      ]
     },
     "metadata": {
      "needs_background": "light"
     },
     "output_type": "display_data"
    }
   ],
   "source": [
    "plt.figure(figsize=(13,5))\n",
    "plt.hist(ramen_list_fill_style['Stars'],bins=15, histtype='bar')\n",
    "plt.title('Histogram: Ramen''s evaluations')\n",
    "plt.xlabel('Grade attributed to the ramens')\n",
    "plt.ylabel(\"Frequence of the evaluations\")\n",
    "plt.show()"
   ]
  },
  {
   "cell_type": "markdown",
   "id": "b3b5dd4b",
   "metadata": {
    "papermill": {
     "duration": 0.029755,
     "end_time": "2022-02-09T20:31:19.447564",
     "exception": false,
     "start_time": "2022-02-09T20:31:19.417809",
     "status": "completed"
    },
    "tags": []
   },
   "source": [
    "## Crossing dimensions"
   ]
  },
  {
   "cell_type": "code",
   "execution_count": 19,
   "id": "d67e1b92",
   "metadata": {
    "execution": {
     "iopub.execute_input": "2022-02-09T20:31:19.511827Z",
     "iopub.status.busy": "2022-02-09T20:31:19.510844Z",
     "iopub.status.idle": "2022-02-09T20:31:19.836729Z",
     "shell.execute_reply": "2022-02-09T20:31:19.835986Z",
     "shell.execute_reply.started": "2022-02-09T20:17:24.547524Z"
    },
    "papermill": {
     "duration": 0.35921,
     "end_time": "2022-02-09T20:31:19.836875",
     "exception": false,
     "start_time": "2022-02-09T20:31:19.477665",
     "status": "completed"
    },
    "tags": []
   },
   "outputs": [
    {
     "data": {
      "image/png": "[encoded data removed]",
      "text/plain": [
       "<Figure size 936x360 with 1 Axes>"
      ]
     },
     "metadata": {
      "needs_background": "light"
     },
     "output_type": "display_data"
    }
   ],
   "source": [
    "# Box plotting ramen rating x style of the package\n",
    "plt.figure(figsize=(13,5))\n",
    "sns.boxplot(x=ramen_list_fill_style[\"Style\"],y=ramen_list_fill_style[\"Stars\"], order=['Pack','Bowl','Cup','Tray','Box','Can','Bar'])\n",
    "sns.stripplot(x=ramen_list_fill_style[\"Style\"], y=ramen_list_fill_style[\"Stars\"],order=['Pack','Bowl','Cup','Tray','Box','Can','Bar'])\n",
    "plt.xlabel('Package style')\n",
    "plt.ylabel('Ramen evaluation')\n",
    "plt.show()"
   ]
  },
  {
   "cell_type": "markdown",
   "id": "65a31614",
   "metadata": {
    "papermill": {
     "duration": 0.030666,
     "end_time": "2022-02-09T20:31:19.898966",
     "exception": false,
     "start_time": "2022-02-09T20:31:19.868300",
     "status": "completed"
    },
    "tags": []
   },
   "source": [
    "Selecting the 5 countries that owns more brands in order to do map their ratings: "
   ]
  },
  {
   "cell_type": "code",
   "execution_count": 20,
   "id": "5ef2c17f",
   "metadata": {
    "execution": {
     "iopub.execute_input": "2022-02-09T20:31:19.973637Z",
     "iopub.status.busy": "2022-02-09T20:31:19.972636Z",
     "iopub.status.idle": "2022-02-09T20:31:20.201198Z",
     "shell.execute_reply": "2022-02-09T20:31:20.201666Z",
     "shell.execute_reply.started": "2022-02-09T20:17:24.913998Z"
    },
    "papermill": {
     "duration": 0.270407,
     "end_time": "2022-02-09T20:31:20.201839",
     "exception": false,
     "start_time": "2022-02-09T20:31:19.931432",
     "status": "completed"
    },
    "tags": []
   },
   "outputs": [
    {
     "data": {
      "image/png": "[encoded data removed]",
      "text/plain": [
       "<Figure size 936x360 with 1 Axes>"
      ]
     },
     "metadata": {
      "needs_background": "light"
     },
     "output_type": "display_data"
    }
   ],
   "source": [
    "# Box plotting ramen rating x style of the package\n",
    "plt.figure(figsize=(13,5))\n",
    "sns.boxplot(x=ramen_list_fill_style[\"Country\"],y=ramen_list_fill_style[\"Stars\"], order=['Japan','Taiwan','USA','South Korea','Thailand'])\n",
    "plt.xlabel('Country')\n",
    "plt.ylabel('Ramen evaluation')\n",
    "plt.show()"
   ]
  },
  {
   "cell_type": "markdown",
   "id": "6a0c37b1",
   "metadata": {
    "papermill": {
     "duration": 0.031406,
     "end_time": "2022-02-09T20:31:20.264974",
     "exception": false,
     "start_time": "2022-02-09T20:31:20.233568",
     "status": "completed"
    },
    "tags": []
   },
   "source": [
    "## 4. Conclusions\n",
    "\n",
    "Summaring some of our observations. We have:\n",
    "*     How is ramen manufacturing internationally distributed?</br>\n",
    "The major productors countries are at the Asian continent. With Japan as the owner of more than 320 brands.\n",
    "*     How are the ramen ratings distributed per the greater ramen productors?</br>\n",
    "Japan is the country with more than 50% of its ramen production score above 4.0.\n",
    "*     Is there a relation between the ratings and the product's style?</br>\n",
    "The 'pack' format is responsible for about 59.4% of the evaluations. Considering the 3 major products formats(pack, bowl and cup), the bowl type received a better evaluation for more than 50% of its products. "
   ]
  }
 ],
 "metadata": {
  "kernelspec": {
   "display_name": "Python 3",
   "language": "python",
   "name": "python3"
  },
  "language_info": {
   "codemirror_mode": {
    "name": "ipython",
    "version": 3
   },
   "file_extension": ".py",
   "mimetype": "text/x-python",
   "name": "python",
   "nbconvert_exporter": "python",
   "pygments_lexer": "ipython3",
   "version": "3.7.12"
  },
  "papermill": {
   "default_parameters": {},
   "duration": 14.752982,
   "end_time": "2022-02-09T20:31:21.006739",
   "environment_variables": {},
   "exception": null,
   "input_path": "__notebook__.ipynb",
   "output_path": "__notebook__.ipynb",
   "parameters": {},
   "start_time": "2022-02-09T20:31:06.253757",
   "version": "2.3.3"
  }
 },
 "nbformat": 4,
 "nbformat_minor": 5
}
